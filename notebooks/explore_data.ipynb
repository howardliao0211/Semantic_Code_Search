{
 "cells": [
  {
   "cell_type": "markdown",
   "id": "ceb1772d",
   "metadata": {},
   "source": [
    "Analysis Dataset"
   ]
  },
  {
   "cell_type": "code",
   "execution_count": 1,
   "id": "4b871de3",
   "metadata": {},
   "outputs": [
    {
     "name": "stderr",
     "output_type": "stream",
     "text": [
      "c:\\Code\\Code_Semantic_Search\\.venv\\Lib\\site-packages\\tqdm\\auto.py:21: TqdmWarning: IProgress not found. Please update jupyter and ipywidgets. See https://ipywidgets.readthedocs.io/en/stable/user_install.html\n",
      "  from .autonotebook import tqdm as notebook_tqdm\n"
     ]
    }
   ],
   "source": [
    "from datasets import load_dataset\n",
    "import pandas as pd\n",
    "import re"
   ]
  },
  {
   "cell_type": "code",
   "execution_count": null,
   "id": "5b9576b4",
   "metadata": {},
   "outputs": [
    {
     "data": {
      "text/plain": [
       "datasets.dataset_dict.DatasetDict"
      ]
     },
     "execution_count": 2,
     "metadata": {},
     "output_type": "execute_result"
    }
   ],
   "source": [
    "# Load dataset and convert to dataframe\n",
    "ds = load_dataset(\"code_search_net\", \"python\", trust_remote_code=True)\n",
    "df = ds['train'].to_pandas()\n",
    "\n",
    "# Retrieve necessary data series.\n",
    "df = df[['func_name', 'func_code_string', 'func_code_tokens', 'func_documentation_string', 'func_documentation_tokens']]"
   ]
  },
  {
   "cell_type": "code",
   "execution_count": 3,
   "id": "9d07345f",
   "metadata": {},
   "outputs": [
    {
     "data": {
      "text/plain": [
       "{'train': 412178, 'test': 22176, 'validation': 23107}"
      ]
     },
     "execution_count": 3,
     "metadata": {},
     "output_type": "execute_result"
    }
   ],
   "source": [
    "# Number of data in each set\n",
    "ds.num_rows"
   ]
  },
  {
   "cell_type": "code",
   "execution_count": 4,
   "id": "30bef545",
   "metadata": {},
   "outputs": [
    {
     "data": {
      "text/html": [
       "<div>\n",
       "<style scoped>\n",
       "    .dataframe tbody tr th:only-of-type {\n",
       "        vertical-align: middle;\n",
       "    }\n",
       "\n",
       "    .dataframe tbody tr th {\n",
       "        vertical-align: top;\n",
       "    }\n",
       "\n",
       "    .dataframe thead th {\n",
       "        text-align: right;\n",
       "    }\n",
       "</style>\n",
       "<table border=\"1\" class=\"dataframe\">\n",
       "  <thead>\n",
       "    <tr style=\"text-align: right;\">\n",
       "      <th></th>\n",
       "      <th>func_name</th>\n",
       "      <th>func_code_string</th>\n",
       "      <th>func_code_tokens</th>\n",
       "      <th>func_documentation_string</th>\n",
       "      <th>func_documentation_tokens</th>\n",
       "      <th>func_code_tokens_len</th>\n",
       "      <th>func_documentation_tokens_len</th>\n",
       "    </tr>\n",
       "  </thead>\n",
       "  <tbody>\n",
       "    <tr>\n",
       "      <th>10978</th>\n",
       "      <td>WechatSogouAPI.__hosting_wechat_img</td>\n",
       "      <td>def __hosting_wechat_img(self, content_info, h...</td>\n",
       "      <td>[def, __hosting_wechat_img, (, self, ,, conten...</td>\n",
       "      <td>将微信明细中图片托管到云端，同时将html页面中的对应图片替换\\n\\n        Par...</td>\n",
       "      <td>[将微信明细中图片托管到云端，同时将html页面中的对应图片替换]</td>\n",
       "      <td>83</td>\n",
       "      <td>1</td>\n",
       "    </tr>\n",
       "    <tr>\n",
       "      <th>10984</th>\n",
       "      <td>WechatSogouAPI.get_article_content</td>\n",
       "      <td>def get_article_content(self, url, del_qqmusic...</td>\n",
       "      <td>[def, get_article_content, (, self, ,, url, ,,...</td>\n",
       "      <td>获取文章原文，避免临时链接失效\\n\\n        Parameters\\n       ...</td>\n",
       "      <td>[获取文章原文，避免临时链接失效]</td>\n",
       "      <td>116</td>\n",
       "      <td>1</td>\n",
       "    </tr>\n",
       "    <tr>\n",
       "      <th>10985</th>\n",
       "      <td>WechatSogouAPI.get_sugg</td>\n",
       "      <td>def get_sugg(self, keyword):\\n        \"\"\"获取微信搜...</td>\n",
       "      <td>[def, get_sugg, (, self, ,, keyword, ), :, url...</td>\n",
       "      <td>获取微信搜狗搜索关键词联想\\n\\n        Parameters\\n        -...</td>\n",
       "      <td>[获取微信搜狗搜索关键词联想]</td>\n",
       "      <td>71</td>\n",
       "      <td>1</td>\n",
       "    </tr>\n",
       "    <tr>\n",
       "      <th>10986</th>\n",
       "      <td>unlock_sogou_callback_example</td>\n",
       "      <td>def unlock_sogou_callback_example(url, req, re...</td>\n",
       "      <td>[def, unlock_sogou_callback_example, (, url, ,...</td>\n",
       "      <td>手动打码解锁\\n\\n    Parameters\\n    ----------\\n    ...</td>\n",
       "      <td>[手动打码解锁]</td>\n",
       "      <td>112</td>\n",
       "      <td>1</td>\n",
       "    </tr>\n",
       "    <tr>\n",
       "      <th>10987</th>\n",
       "      <td>unlock_weixin_callback_example</td>\n",
       "      <td>def unlock_weixin_callback_example(url, req, r...</td>\n",
       "      <td>[def, unlock_weixin_callback_example, (, url, ...</td>\n",
       "      <td>手动打码解锁\\n\\n    Parameters\\n    ----------\\n    ...</td>\n",
       "      <td>[手动打码解锁]</td>\n",
       "      <td>97</td>\n",
       "      <td>1</td>\n",
       "    </tr>\n",
       "  </tbody>\n",
       "</table>\n",
       "</div>"
      ],
      "text/plain": [
       "                                 func_name  \\\n",
       "10978  WechatSogouAPI.__hosting_wechat_img   \n",
       "10984   WechatSogouAPI.get_article_content   \n",
       "10985              WechatSogouAPI.get_sugg   \n",
       "10986        unlock_sogou_callback_example   \n",
       "10987       unlock_weixin_callback_example   \n",
       "\n",
       "                                        func_code_string  \\\n",
       "10978  def __hosting_wechat_img(self, content_info, h...   \n",
       "10984  def get_article_content(self, url, del_qqmusic...   \n",
       "10985  def get_sugg(self, keyword):\\n        \"\"\"获取微信搜...   \n",
       "10986  def unlock_sogou_callback_example(url, req, re...   \n",
       "10987  def unlock_weixin_callback_example(url, req, r...   \n",
       "\n",
       "                                        func_code_tokens  \\\n",
       "10978  [def, __hosting_wechat_img, (, self, ,, conten...   \n",
       "10984  [def, get_article_content, (, self, ,, url, ,,...   \n",
       "10985  [def, get_sugg, (, self, ,, keyword, ), :, url...   \n",
       "10986  [def, unlock_sogou_callback_example, (, url, ,...   \n",
       "10987  [def, unlock_weixin_callback_example, (, url, ...   \n",
       "\n",
       "                               func_documentation_string  \\\n",
       "10978  将微信明细中图片托管到云端，同时将html页面中的对应图片替换\\n\\n        Par...   \n",
       "10984  获取文章原文，避免临时链接失效\\n\\n        Parameters\\n       ...   \n",
       "10985  获取微信搜狗搜索关键词联想\\n\\n        Parameters\\n        -...   \n",
       "10986  手动打码解锁\\n\\n    Parameters\\n    ----------\\n    ...   \n",
       "10987  手动打码解锁\\n\\n    Parameters\\n    ----------\\n    ...   \n",
       "\n",
       "               func_documentation_tokens  func_code_tokens_len  \\\n",
       "10978  [将微信明细中图片托管到云端，同时将html页面中的对应图片替换]                    83   \n",
       "10984                  [获取文章原文，避免临时链接失效]                   116   \n",
       "10985                    [获取微信搜狗搜索关键词联想]                    71   \n",
       "10986                           [手动打码解锁]                   112   \n",
       "10987                           [手动打码解锁]                    97   \n",
       "\n",
       "       func_documentation_tokens_len  \n",
       "10978                              1  \n",
       "10984                              1  \n",
       "10985                              1  \n",
       "10986                              1  \n",
       "10987                              1  "
      ]
     },
     "execution_count": 4,
     "metadata": {},
     "output_type": "execute_result"
    }
   ],
   "source": [
    "# Count the length of code token and docstring token\n",
    "df['func_code_tokens_len'] = df['func_code_tokens'].apply(lambda x: len(x))\n",
    "df['func_documentation_tokens_len'] = df['func_documentation_tokens'].apply(lambda x: len(x))\n",
    "\n",
    "df['func_code_tokens_len'].describe(), df['func_documentation_tokens_len'].describe()\n",
    "\n",
    "# There are chinese documentation...\n",
    "df.loc[df['func_documentation_tokens_len'] == 1].head()"
   ]
  },
  {
   "cell_type": "code",
   "execution_count": 5,
   "id": "5917652a",
   "metadata": {},
   "outputs": [],
   "source": [
    "def _filter_dataset(ds, min_doc_token: int, max_doc_token: int, min_code_token: int, max_code_token: int, language='python') -> bool:\n",
    "    # Step 1: Only allow python\n",
    "    if ds['language'] != language:\n",
    "        return False\n",
    "    \n",
    "    # Step 2: Check if the coden token length if > min_code_token\n",
    "    if len(ds['func_code_tokens']) < min_code_token or \\\n",
    "        len(ds['func_code_tokens']) > max_code_token:\n",
    "        return False\n",
    "    \n",
    "    if len(ds['func_documentation_tokens']) < min_doc_token or \\\n",
    "        len(ds['func_documentation_tokens']) > max_doc_token:\n",
    "        return False\n",
    "    \n",
    "    # Step 3: Check if the func documentation only include ascii code (exclude non-english).\n",
    "    if ds['func_documentation_string'].isascii() == False:\n",
    "        return False\n",
    "\n",
    "    return True\n",
    "\n",
    "def _filter_columns_from_dataset(datasets, columns_to_save: list):\n",
    "\n",
    "    # Get all the columns names\n",
    "    dataset_columns_to_remove = {\n",
    "        dataset: columns for dataset, columns in datasets.column_names.items()\n",
    "    }\n",
    "\n",
    "    # Remove columns to save from all the column names\n",
    "    for dataset in dataset_columns_to_remove:\n",
    "        for column in columns_to_save:\n",
    "            if column in dataset_columns_to_remove[dataset]:\n",
    "                dataset_columns_to_remove[dataset].remove(column)\n",
    "\n",
    "    # Remove all the columns except columns_to_save.\n",
    "    for dataset in datasets:\n",
    "        datasets[dataset] = datasets[dataset].remove_columns(dataset_columns_to_remove[dataset])\n",
    "    \n",
    "    return datasets\n",
    "\n",
    "columns_to_save = [\n",
    "        'func_code_string',\n",
    "        'func_code_tokens',\n",
    "        'func_documentation_string',\n",
    "        'func_documentation_tokens'\n",
    "    ]\n",
    "\n",
    "filtered_ds = ds.filter(lambda example: _filter_dataset(example, 0, 64, 0, 64))\n",
    "filtered_ds = _filter_columns_from_dataset(ds, columns_to_save)"
   ]
  },
  {
   "cell_type": "code",
   "execution_count": 10,
   "id": "02ad6225",
   "metadata": {},
   "outputs": [
    {
     "name": "stderr",
     "output_type": "stream",
     "text": [
      "Map: 100%|██████████| 412178/412178 [00:37<00:00, 11085.98 examples/s]\n",
      "Map: 100%|██████████| 22176/22176 [00:02<00:00, 10623.71 examples/s]\n",
      "Map: 100%|██████████| 23107/23107 [00:02<00:00, 10287.69 examples/s]\n"
     ]
    }
   ],
   "source": [
    "import unicodedata\n",
    "\n",
    "def _unicode_to_ascii(s):\n",
    "    return ''.join(\n",
    "        c for c in unicodedata.normalize('NFD', s)\n",
    "        if unicodedata.category(c) != 'Mn'\n",
    "    )\n",
    "\n",
    "# Lowercase, trim, and remove non-letter characters\n",
    "def _normalize_string(s):\n",
    "    s = _unicode_to_ascii(s.lower().strip())\n",
    "    s = re.sub(r\"([.!?])\", r\" \\1\", s)\n",
    "    s = re.sub(r\"[^a-zA-Z!?]+\", r\" \", s)\n",
    "    return s.strip()\n",
    "\n",
    "def preprocess_documentation_string_to_tokens(s):\n",
    "    return _normalize_string(s).split()\n",
    "\n",
    "filtered_ds = filtered_ds.map(\n",
    "    lambda example: {\n",
    "        'func_documentation_tokens': preprocess_documentation_string_to_tokens(example['func_documentation_string'])\n",
    "    }\n",
    ")"
   ]
  },
  {
   "cell_type": "code",
   "execution_count": 11,
   "id": "2f43d459",
   "metadata": {},
   "outputs": [
    {
     "data": {
      "text/html": [
       "<div>\n",
       "<style scoped>\n",
       "    .dataframe tbody tr th:only-of-type {\n",
       "        vertical-align: middle;\n",
       "    }\n",
       "\n",
       "    .dataframe tbody tr th {\n",
       "        vertical-align: top;\n",
       "    }\n",
       "\n",
       "    .dataframe thead th {\n",
       "        text-align: right;\n",
       "    }\n",
       "</style>\n",
       "<table border=\"1\" class=\"dataframe\">\n",
       "  <thead>\n",
       "    <tr style=\"text-align: right;\">\n",
       "      <th></th>\n",
       "      <th>func_code_string</th>\n",
       "      <th>func_code_tokens</th>\n",
       "      <th>func_documentation_string</th>\n",
       "      <th>func_documentation_tokens</th>\n",
       "    </tr>\n",
       "  </thead>\n",
       "  <tbody>\n",
       "    <tr>\n",
       "      <th>0</th>\n",
       "      <td>def train(train_dir, model_save_path=None, n_n...</td>\n",
       "      <td>[def, train, (, train_dir, ,, model_save_path,...</td>\n",
       "      <td>Trains a k-nearest neighbors classifier for fa...</td>\n",
       "      <td>[trains, a, k, nearest, neighbors, classifier,...</td>\n",
       "    </tr>\n",
       "    <tr>\n",
       "      <th>1</th>\n",
       "      <td>def predict(X_img_path, knn_clf=None, model_pa...</td>\n",
       "      <td>[def, predict, (, X_img_path, ,, knn_clf, =, N...</td>\n",
       "      <td>Recognizes faces in given image using a traine...</td>\n",
       "      <td>[recognizes, faces, in, given, image, using, a...</td>\n",
       "    </tr>\n",
       "    <tr>\n",
       "      <th>2</th>\n",
       "      <td>def show_prediction_labels_on_image(img_path, ...</td>\n",
       "      <td>[def, show_prediction_labels_on_image, (, img_...</td>\n",
       "      <td>Shows the face recognition results visually.\\n...</td>\n",
       "      <td>[shows, the, face, recognition, results, visua...</td>\n",
       "    </tr>\n",
       "    <tr>\n",
       "      <th>3</th>\n",
       "      <td>def _rect_to_css(rect):\\n    \"\"\"\\n    Convert ...</td>\n",
       "      <td>[def, _rect_to_css, (, rect, ), :, return, rec...</td>\n",
       "      <td>Convert a dlib 'rect' object to a plain tuple ...</td>\n",
       "      <td>[convert, a, dlib, rect, object, to, a, plain,...</td>\n",
       "    </tr>\n",
       "    <tr>\n",
       "      <th>4</th>\n",
       "      <td>def _trim_css_to_bounds(css, image_shape):\\n  ...</td>\n",
       "      <td>[def, _trim_css_to_bounds, (, css, ,, image_sh...</td>\n",
       "      <td>Make sure a tuple in (top, right, bottom, left...</td>\n",
       "      <td>[make, sure, a, tuple, in, top, right, bottom,...</td>\n",
       "    </tr>\n",
       "  </tbody>\n",
       "</table>\n",
       "</div>"
      ],
      "text/plain": [
       "                                    func_code_string  \\\n",
       "0  def train(train_dir, model_save_path=None, n_n...   \n",
       "1  def predict(X_img_path, knn_clf=None, model_pa...   \n",
       "2  def show_prediction_labels_on_image(img_path, ...   \n",
       "3  def _rect_to_css(rect):\\n    \"\"\"\\n    Convert ...   \n",
       "4  def _trim_css_to_bounds(css, image_shape):\\n  ...   \n",
       "\n",
       "                                    func_code_tokens  \\\n",
       "0  [def, train, (, train_dir, ,, model_save_path,...   \n",
       "1  [def, predict, (, X_img_path, ,, knn_clf, =, N...   \n",
       "2  [def, show_prediction_labels_on_image, (, img_...   \n",
       "3  [def, _rect_to_css, (, rect, ), :, return, rec...   \n",
       "4  [def, _trim_css_to_bounds, (, css, ,, image_sh...   \n",
       "\n",
       "                           func_documentation_string  \\\n",
       "0  Trains a k-nearest neighbors classifier for fa...   \n",
       "1  Recognizes faces in given image using a traine...   \n",
       "2  Shows the face recognition results visually.\\n...   \n",
       "3  Convert a dlib 'rect' object to a plain tuple ...   \n",
       "4  Make sure a tuple in (top, right, bottom, left...   \n",
       "\n",
       "                           func_documentation_tokens  \n",
       "0  [trains, a, k, nearest, neighbors, classifier,...  \n",
       "1  [recognizes, faces, in, given, image, using, a...  \n",
       "2  [shows, the, face, recognition, results, visua...  \n",
       "3  [convert, a, dlib, rect, object, to, a, plain,...  \n",
       "4  [make, sure, a, tuple, in, top, right, bottom,...  "
      ]
     },
     "execution_count": 11,
     "metadata": {},
     "output_type": "execute_result"
    }
   ],
   "source": [
    "filtered_pd = filtered_ds['train'].to_pandas()\n",
    "filtered_pd.head()"
   ]
  },
  {
   "cell_type": "code",
   "execution_count": 7,
   "id": "6de18fb7",
   "metadata": {},
   "outputs": [
    {
     "name": "stdout",
     "output_type": "stream",
     "text": [
      "code tokens: 8192\n",
      "doc tokens: 8192\n"
     ]
    }
   ],
   "source": [
    "import sys\n",
    "sys.path.append(r'C:\\Code\\Code_Semantic_Search')\n",
    "\n",
    "from data.tokenizer import Tokenizer\n",
    "code_tokenizer = Tokenizer(8192)\n",
    "doc_tokenizer = Tokenizer(8192)\n",
    "\n",
    "# Load tokens in tokenizer\n",
    "code_tokenizer.load_datasets(filtered_ds, 'func_code_tokens')\n",
    "doc_tokenizer.load_datasets(filtered_ds, 'func_documentation_tokens')\n",
    "print(f'code tokens: {len(code_tokenizer)}')\n",
    "print(f'doc tokens: {len(doc_tokenizer)}')\n"
   ]
  },
  {
   "cell_type": "code",
   "execution_count": 8,
   "id": "532179d3",
   "metadata": {},
   "outputs": [
    {
     "name": "stderr",
     "output_type": "stream",
     "text": [
      "Filter: 100%|██████████| 412178/412178 [00:51<00:00, 8005.37 examples/s]\n",
      "Filter: 100%|██████████| 22176/22176 [00:02<00:00, 8164.58 examples/s]\n",
      "Filter: 100%|██████████| 23107/23107 [00:03<00:00, 7561.67 examples/s]\n"
     ]
    }
   ],
   "source": [
    "# filter the dataset to only include allow code tokens and allow documentation tokens\n",
    "# so that the dataset will not have any unknown token\n",
    "def _filter_tokens(ds, allow_code_tokens, allow_doc_tokens) -> bool:\n",
    "    for code_token, doc_token in zip(ds['func_code_tokens'], ds['func_documentation_tokens']):\n",
    "        if code_token not in allow_code_tokens:\n",
    "            return False\n",
    "\n",
    "        if doc_token not in allow_doc_tokens:\n",
    "            return False\n",
    "\n",
    "    return True\n",
    "\n",
    "\n",
    "filtered_tokens = filtered_ds.filter(lambda example: _filter_tokens(example, code_tokenizer.most_freq_tokens, doc_tokenizer.most_freq_tokens))\n"
   ]
  },
  {
   "cell_type": "code",
   "execution_count": 14,
   "id": "17a08acf",
   "metadata": {},
   "outputs": [
    {
     "data": {
      "text/plain": [
       "(37671, 2049, 2401)"
      ]
     },
     "execution_count": 14,
     "metadata": {},
     "output_type": "execute_result"
    }
   ],
   "source": [
    "len(filtered_tokens['train']), len(filtered_tokens['test']), len(filtered_tokens['validation'])"
   ]
  },
  {
   "cell_type": "markdown",
   "id": "1ab8534e",
   "metadata": {},
   "source": [
    "# Examine documentation classes for applying class weighting"
   ]
  },
  {
   "cell_type": "code",
   "execution_count": 16,
   "id": "32787a4e",
   "metadata": {},
   "outputs": [
    {
     "name": "stdout",
     "output_type": "stream",
     "text": [
      "Loading preprocessed dataset...\n",
      "Train Dataset Size: 25347\n",
      "Test Dataset Size: 1398\n",
      "Validation Dataset Size: 1286\n"
     ]
    },
    {
     "data": {
      "text/plain": [
       "word\n",
       "the            532151\n",
       "a              254480\n",
       "to             223267\n",
       "of             212582\n",
       "param          115704\n",
       "                ...  \n",
       "xb                 36\n",
       "disabling          36\n",
       "lightweight        36\n",
       "emulates           36\n",
       "tempdir            36\n",
       "Name: count, Length: 8188, dtype: int64"
      ]
     },
     "execution_count": 16,
     "metadata": {},
     "output_type": "execute_result"
    }
   ],
   "source": [
    "import sys\n",
    "import pandas as pd\n",
    "sys.path.append(r'C:\\Code\\Code_Semantic_Search')\n",
    "\n",
    "from pathlib import Path\n",
    "from data.dataset import get_datasets\n",
    "from data.tokenizer import Tokenizer\n",
    "\n",
    "# Configure hyperparameters\n",
    "input_size = 8192\n",
    "output_size = 8192\n",
    "batch_size = 64\n",
    "hidden_size = 256\n",
    "sequence_length = 128\n",
    "dropout_p = 0.3\n",
    "weight_decay = 1e-5\n",
    "learning_rate = 5e-4\n",
    "label_smoothing = 0.1\n",
    "\n",
    "# Get datasets\n",
    "DATASET_LOCAL_PATH = Path(r'C:\\Code\\Code_Semantic_Search\\preprocessed_dataset')\n",
    "code_tokenizer = Tokenizer(input_size)\n",
    "doc_tokenizer = Tokenizer(output_size)\n",
    "train_dataset, test_dataset, validation_dataset = get_datasets(data_local_path=DATASET_LOCAL_PATH,\n",
    "                                                    code_tokenizer=code_tokenizer,\n",
    "                                                    doc_tokenizer=doc_tokenizer,\n",
    "                                                    sequence_length=sequence_length)\n",
    "\n",
    "doc_freq = {\n",
    "    'word': [],\n",
    "}\n",
    "\n",
    "# Create a dictionary with a list of tokens\n",
    "for word, freq in doc_tokenizer.counter.items():\n",
    "    if word in doc_tokenizer.most_freq_tokens:\n",
    "        doc_freq['word'] += [word] * freq\n",
    "\n",
    "doc_df = pd.DataFrame.from_dict(doc_freq)\n",
    "doc_df['word'].value_counts()"
   ]
  },
  {
   "cell_type": "code",
   "execution_count": 35,
   "id": "f0418ca6",
   "metadata": {},
   "outputs": [
    {
     "data": {
      "text/plain": [
       "(array([  4.,  22.,  40.,  98., 179., 237., 315., 314., 370., 427., 475.,\n",
       "        455., 498., 544., 569., 521., 546., 543., 613., 603., 619., 196.,\n",
       "          0.,   0.,   0.,   0.,   0.,   0.,   0.,   0.,   0.,   0.,   0.,\n",
       "          0.,   0.,   0.,   0.,   0.,   0.,   0.,   0.,   0.,   0.,   0.,\n",
       "          0.,   0.,   0.,   0.,   0.,   0.,   0.,   0.,   0.,   0.,   0.,\n",
       "          0.,   0.,   0.,   0.,   0.,   0.,   1.,   0.,   0.,   0.,   0.,\n",
       "          0.,   0.,   0.,   0.,   0.,   0.,   0.,   0.,   0.,   0.,   0.,\n",
       "          0.,   0.,   0.,   0.,   0.,   0.,   0.,   0.,   0.,   0.,   0.,\n",
       "          0.,   0.,   0.,   0.,   0.,   0.,   0.,   0.,   0.,   0.,   0.,\n",
       "          3.]),\n",
       " array([4.54753172e-05, 5.10163445e-05, 5.65573682e-05, 6.20983919e-05,\n",
       "        6.76394193e-05, 7.31804466e-05, 7.87214667e-05, 8.42624941e-05,\n",
       "        8.98035214e-05, 9.53445488e-05, 1.00885576e-04, 1.06426596e-04,\n",
       "        1.11967624e-04, 1.17508651e-04, 1.23049671e-04, 1.28590706e-04,\n",
       "        1.34131726e-04, 1.39672746e-04, 1.45213780e-04, 1.50754800e-04,\n",
       "        1.56295835e-04, 1.61836855e-04, 1.67377875e-04, 1.72918910e-04,\n",
       "        1.78459930e-04, 1.84000950e-04, 1.89541985e-04, 1.95083005e-04,\n",
       "        2.00624025e-04, 2.06165059e-04, 2.11706079e-04, 2.17247114e-04,\n",
       "        2.22788134e-04, 2.28329154e-04, 2.33870189e-04, 2.39411209e-04,\n",
       "        2.44952244e-04, 2.50493264e-04, 2.56034284e-04, 2.61575333e-04,\n",
       "        2.67116353e-04, 2.72657373e-04, 2.78198393e-04, 2.83739413e-04,\n",
       "        2.89280433e-04, 2.94821453e-04, 3.00362502e-04, 3.05903523e-04,\n",
       "        3.11444543e-04, 3.16985563e-04, 3.22526583e-04, 3.28067632e-04,\n",
       "        3.33608652e-04, 3.39149672e-04, 3.44690692e-04, 3.50231712e-04,\n",
       "        3.55772732e-04, 3.61313781e-04, 3.66854802e-04, 3.72395822e-04,\n",
       "        3.77936842e-04, 3.83477862e-04, 3.89018911e-04, 3.94559931e-04,\n",
       "        4.00100951e-04, 4.05641971e-04, 4.11182991e-04, 4.16724040e-04,\n",
       "        4.22265060e-04, 4.27806081e-04, 4.33347101e-04, 4.38888121e-04,\n",
       "        4.44429170e-04, 4.49970190e-04, 4.55511210e-04, 4.61052230e-04,\n",
       "        4.66593250e-04, 4.72134270e-04, 4.77675319e-04, 4.83216339e-04,\n",
       "        4.88757389e-04, 4.94298409e-04, 4.99839429e-04, 5.05380449e-04,\n",
       "        5.10921469e-04, 5.16462489e-04, 5.22003509e-04, 5.27544529e-04,\n",
       "        5.33085549e-04, 5.38626569e-04, 5.44167589e-04, 5.49708668e-04,\n",
       "        5.55249688e-04, 5.60790708e-04, 5.66331728e-04, 5.71872748e-04,\n",
       "        5.77413768e-04, 5.82954788e-04, 5.88495808e-04, 5.94036828e-04,\n",
       "        5.99577848e-04]),\n",
       " <BarContainer object of 100 artists>)"
      ]
     },
     "execution_count": 35,
     "metadata": {},
     "output_type": "execute_result"
    },
    {
     "data": {
      "image/png": "[encoded data removed]",
      "text/plain": [
       "<Figure size 640x480 with 1 Axes>"
      ]
     },
     "metadata": {},
     "output_type": "display_data"
    }
   ],
   "source": [
    "import torch\n",
    "import math\n",
    "import matplotlib.pyplot as plt\n",
    "\n",
    "def get_class_weight_vector(tokenizer: Tokenizer, smoothing: float=0.5) -> torch.Tensor:\n",
    "    num_of_class = len(tokenizer)\n",
    "    weight_vector = torch.ones(num_of_class, dtype=torch.float)\n",
    "    \n",
    "    for word, count in tokenizer.counter.items():\n",
    "        idx = tokenizer.to_idx(word)\n",
    "        # min_count = 1e-6 # to prevent zero division\n",
    "        # weight_vector[idx] = 1.0 / ((count + min_count) ** smoothing) # Power\n",
    "        weight_vector[idx] = 1.0 / math.log(count + math.e)\n",
    "    \n",
    "    return weight_vector / weight_vector.sum() # normalize weight\n",
    "\n",
    "weight_vector = get_class_weight_vector(doc_tokenizer)\n",
    "plt.hist(weight_vector.numpy(), bins=100)"
   ]
  },
  {
   "cell_type": "code",
   "execution_count": 3,
   "id": "283ca852",
   "metadata": {},
   "outputs": [],
   "source": [
    "import zipfile\n",
    "\n",
    "path_to_zip_file = r'../data/Cleaned_CodeSearchNet.zip'\n",
    "directory_to_extract_to = r'../data'\n",
    "\n",
    "with zipfile.ZipFile(path_to_zip_file, 'r') as zip_ref:\n",
    "    zip_ref.extractall(directory_to_extract_to)"
   ]
  },
  {
   "cell_type": "code",
   "execution_count": null,
   "id": "c042320a",
   "metadata": {},
   "outputs": [],
   "source": [
    "from dataclasses import dataclass\n",
    "from typing import List\n",
    "import json\n",
    "\n",
    "@dataclass\n",
    "class Example:\n",
    "    \"\"\"A single training/test example.\"\"\"\n",
    "    def __init__(self,\n",
    "                 idx,\n",
    "                 source,\n",
    "                 target,\n",
    "                 ):\n",
    "        self.idx = idx\n",
    "        self.source = source\n",
    "        self.target = target\n",
    "\n",
    "def read_examples(filename) -> List[Example]:\n",
    "    \"\"\"Read examples from filename.\"\"\"\n",
    "    examples=[]\n",
    "    with open(filename,encoding=\"utf-8\") as f:\n",
    "        for idx, line in enumerate(f):\n",
    "            line=line.strip()\n",
    "            js=json.loads(line)\n",
    "            if 'idx' not in js:\n",
    "                js['idx']=idx\n",
    "            code=' '.join(js['code_tokens']).replace('\\n',' ')\n",
    "            code=' '.join(code.strip().split())\n",
    "            nl=' '.join(js['docstring_tokens']).replace('\\n','')\n",
    "            nl=' '.join(nl.strip().split())\n",
    "            examples.append(\n",
    "                Example(\n",
    "                        idx = idx,\n",
    "                        source=code,\n",
    "                        target = nl,\n",
    "                        ) \n",
    "            )\n",
    "    return examples\n",
    "\n",
    "trains = read_examples(r'..\\data\\CodeSearchNet\\python\\train.jsonl')\n"
   ]
  },
  {
   "cell_type": "code",
   "execution_count": 7,
   "id": "f301ee86",
   "metadata": {},
   "outputs": [
    {
     "data": {
      "text/plain": [
       "'def split_phylogeny ( p , level = \"s\" ) : level = level + \"__\" result = p . split ( level ) return result [ 0 ] + level + result [ 1 ] . split ( \";\" ) [ 0 ]'"
      ]
     },
     "execution_count": 7,
     "metadata": {},
     "output_type": "execute_result"
    }
   ],
   "source": [
    "trains[0].source"
   ]
  },
  {
   "cell_type": "code",
   "execution_count": null,
   "id": "cd40c446",
   "metadata": {},
   "outputs": [],
   "source": []
  }
 ],
 "metadata": {
  "kernelspec": {
   "display_name": ".venv",
   "language": "python",
   "name": "python3"
  },
  "language_info": {
   "codemirror_mode": {
    "name": "ipython",
    "version": 3
   },
   "file_extension": ".py",
   "mimetype": "text/x-python",
   "name": "python",
   "nbconvert_exporter": "python",
   "pygments_lexer": "ipython3",
   "version": "3.13.5"
  }
 },
 "nbformat": 4,
 "nbformat_minor": 5
}
